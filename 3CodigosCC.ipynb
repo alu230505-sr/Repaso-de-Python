{
  "nbformat": 4,
  "nbformat_minor": 0,
  "metadata": {
    "colab": {
      "provenance": [],
      "authorship_tag": "ABX9TyOAokJUiYQLvCJcYaw1YPvh",
      "include_colab_link": true
    },
    "kernelspec": {
      "name": "python3",
      "display_name": "Python 3"
    },
    "language_info": {
      "name": "python"
    }
  },
  "cells": [
    {
      "cell_type": "markdown",
      "metadata": {
        "id": "view-in-github",
        "colab_type": "text"
      },
      "source": [
        "<a href=\"https://colab.research.google.com/github/alu230505-sr/Repaso-de-Python/blob/main/3CodigosCC.ipynb\" target=\"_parent\"><img src=\"https://colab.research.google.com/assets/colab-badge.svg\" alt=\"Open In Colab\"/></a>"
      ]
    },
    {
      "cell_type": "markdown",
      "source": [
        "Realizar un programa en python que te permita capturar 3 números enteros e imprima cual de los 3 es el mayor"
      ],
      "metadata": {
        "id": "9X2x2jVX_Kk3"
      }
    },
    {
      "cell_type": "code",
      "source": [
        "num1 = int(input(\"ingresa un numero: \"))\n",
        "num2 = int(input(\"ingresa el segundo numero: \"))\n",
        "num3 = int(input(\"ingresa el tercer numero: \"))\n",
        "\n",
        "mayor = max(num1, num2, num3)\n",
        "print(\"el numero mayor es: \", mayor)"
      ],
      "metadata": {
        "id": "9oBGxNP__YTx",
        "colab": {
          "base_uri": "https://localhost:8080/"
        },
        "outputId": "cd60d26e-5d19-49bc-ea2a-0cdd73118eb2"
      },
      "execution_count": 12,
      "outputs": [
        {
          "output_type": "stream",
          "name": "stdout",
          "text": [
            "ingresa un numero: 4\n",
            "ingresa el segundo numero: 5\n",
            "ingresa el tercer numero: 2\n",
            "el numero mayor es:  5\n"
          ]
        }
      ]
    },
    {
      "cell_type": "markdown",
      "source": [
        "Realizar un programa en python mediante el cual calcules el total de caracteres que tiene un nombre capturado desde el teclado"
      ],
      "metadata": {
        "id": "4ymwrs1YA3b3"
      }
    },
    {
      "cell_type": "code",
      "source": [
        "nombre = input(\"Ingresa tu nombre: \")\n",
        "cantidad = len(nombre)\n",
        "print(\"El nombre tiene\", cantidad, \"caracteres.\")"
      ],
      "metadata": {
        "colab": {
          "base_uri": "https://localhost:8080/"
        },
        "id": "auSvt6FCBWfW",
        "outputId": "913ef3af-f974-48ac-ea6d-af25d317d7cc"
      },
      "execution_count": 7,
      "outputs": [
        {
          "output_type": "stream",
          "name": "stdout",
          "text": [
            "Ingresa tu nombre: yael\n",
            "El nombre tiene 4 caracteres.\n"
          ]
        }
      ]
    },
    {
      "cell_type": "markdown",
      "source": [
        "Realizar un programa en python que permita imprimir los 7 días de la semana"
      ],
      "metadata": {
        "id": "yqG8ddVbBs4D"
      }
    },
    {
      "cell_type": "code",
      "source": [
        "semana = [\"lunes\", \"martes\", \"miercoles\", \"jueves\", \"viernes\", \"sabado\", \"domingo\"]\n",
        "print (\"Los dias de la semana son: \")\n",
        "for days in semana:\n",
        "    print(days)"
      ],
      "metadata": {
        "colab": {
          "base_uri": "https://localhost:8080/"
        },
        "id": "3_G4FrmCBwXq",
        "outputId": "548c2deb-2c64-442f-ffd3-bfe41d818471"
      },
      "execution_count": 13,
      "outputs": [
        {
          "output_type": "stream",
          "name": "stdout",
          "text": [
            "Los dias de la semana son: \n",
            "lunes\n",
            "martes\n",
            "miercoles\n",
            "jueves\n",
            "viernes\n",
            "sabado\n",
            "domingo\n"
          ]
        }
      ]
    },
    {
      "cell_type": "markdown",
      "source": [],
      "metadata": {
        "id": "FfpfQkct_WlM"
      }
    }
  ]
}