{
  "nbformat": 4,
  "nbformat_minor": 0,
  "metadata": {
    "colab": {
      "provenance": [],
      "authorship_tag": "ABX9TyPo35Fq2AVp/5n7o+qdkbUS",
      "include_colab_link": true
    },
    "kernelspec": {
      "name": "python3",
      "display_name": "Python 3"
    },
    "language_info": {
      "name": "python"
    }
  },
  "cells": [
    {
      "cell_type": "markdown",
      "metadata": {
        "id": "view-in-github",
        "colab_type": "text"
      },
      "source": [
        "<a href=\"https://colab.research.google.com/github/alu230505-sr/Repaso-de-Python/blob/main/YaelCC.ipynb\" target=\"_parent\"><img src=\"https://colab.research.google.com/assets/colab-badge.svg\" alt=\"Open In Colab\"/></a>"
      ]
    },
    {
      "cell_type": "markdown",
      "source": [
        "Realizar un programa que permita capturar tu nombre y lo imprima seguida de una binvenida"
      ],
      "metadata": {
        "id": "YmvDQsJt_OVH"
      }
    },
    {
      "cell_type": "code",
      "source": [
        "print(\"hola mundo\")\n",
        "nombre = input(\"ingresa tu nombre: \")\n",
        "print(\"Binvenido al programa\", nombre)"
      ],
      "metadata": {
        "colab": {
          "base_uri": "https://localhost:8080/"
        },
        "id": "3nDiNWAp_egX",
        "outputId": "963f9d6d-de8a-4c08-b052-0c6bde71ebae"
      },
      "execution_count": 9,
      "outputs": [
        {
          "output_type": "stream",
          "name": "stdout",
          "text": [
            "hola mundo\n",
            "ingresa tu nombre: yael\n",
            "Binvenido al programa yael\n"
          ]
        }
      ]
    },
    {
      "cell_type": "markdown",
      "source": [
        "realizar un programa que permita capturar dos numeros enteros e imprima la suma, la resta, la multiplicacion y la divison entre ellos."
      ],
      "metadata": {
        "id": "e004RNKCCniw"
      }
    },
    {
      "cell_type": "code",
      "source": [
        "num1=int(input(\"ingresa un numero: \"))\n",
        "num2=int(input(\"ingresa el segundo numero: \"))\n",
        "s=num1+num2\n",
        "r=num1-num2\n",
        "m=num1*num2\n",
        "d=num1/num2\n",
        "print(\"el resultado de la suma es: \", s)\n",
        "print(\"el resultado de la resta es: \", r)\n",
        "print(\"el resultado de la multiplicacion es: \", m)\n",
        "print(\"el resultado de la division es: \", d)"
      ],
      "metadata": {
        "colab": {
          "base_uri": "https://localhost:8080/"
        },
        "id": "j5fuxtmyDdqk",
        "outputId": "aa549ce8-a42b-4c8a-8ad5-282fca850ca8"
      },
      "execution_count": 11,
      "outputs": [
        {
          "output_type": "stream",
          "name": "stdout",
          "text": [
            "ingresa un numero: 5\n",
            "ingresa el segundo numero: 5\n",
            "el resultado de la suma es:  10\n",
            "el resultado de la resta es:  0\n",
            "el resultado de la multiplicacion es:  25\n",
            "el resultado de la division es:  1.0\n"
          ]
        }
      ]
    },
    {
      "cell_type": "code",
      "execution_count": null,
      "metadata": {
        "id": "pZw9mZ8j-6ON"
      },
      "outputs": [],
      "source": []
    }
  ]
}